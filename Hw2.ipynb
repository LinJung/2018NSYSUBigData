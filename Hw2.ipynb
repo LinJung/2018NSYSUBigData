{
 "cells": [
  {
   "cell_type": "code",
   "execution_count": 3,
   "metadata": {},
   "outputs": [],
   "source": [
    "import numpy as np\n",
    "import pandas as pd\n",
    "import matplotlib.pyplot as plt\n",
    "import scipy.optimize as sco\n",
    "import scipy.interpolate as sci\n",
    "from scipy import stats"
   ]
  },
  {
   "cell_type": "code",
   "execution_count": 4,
   "metadata": {},
   "outputs": [],
   "source": [
    "data = pd.read_csv(\"股價.csv\")"
   ]
  },
  {
   "cell_type": "code",
   "execution_count": 5,
   "metadata": {},
   "outputs": [
    {
     "data": {
      "text/plain": [
       "20160920    20160920\n",
       "20160921    20160921\n",
       "20160922    20160922\n",
       "20160923    20160923\n",
       "20160926    20160926\n",
       "20160929    20160929\n",
       "20160930    20160930\n",
       "20161003    20161003\n",
       "20161004    20161004\n",
       "20161005    20161005\n",
       "20161006    20161006\n",
       "20161007    20161007\n",
       "20161011    20161011\n",
       "20161012    20161012\n",
       "20161013    20161013\n",
       "20161014    20161014\n",
       "20161017    20161017\n",
       "20161018    20161018\n",
       "20161019    20161019\n",
       "20161020    20161020\n",
       "20161021    20161021\n",
       "20161024    20161024\n",
       "20161025    20161025\n",
       "20161026    20161026\n",
       "20161027    20161027\n",
       "20161028    20161028\n",
       "20161031    20161031\n",
       "20161101    20161101\n",
       "20161102    20161102\n",
       "20161103    20161103\n",
       "              ...   \n",
       "20180810    20180810\n",
       "20180813    20180813\n",
       "20180814    20180814\n",
       "20180815    20180815\n",
       "20180816    20180816\n",
       "20180817    20180817\n",
       "20180820    20180820\n",
       "20180821    20180821\n",
       "20180822    20180822\n",
       "20180823    20180823\n",
       "20180824    20180824\n",
       "20180827    20180827\n",
       "20180828    20180828\n",
       "20180829    20180829\n",
       "20180830    20180830\n",
       "20180831    20180831\n",
       "20180903    20180903\n",
       "20180904    20180904\n",
       "20180905    20180905\n",
       "20180906    20180906\n",
       "20180907    20180907\n",
       "20180910    20180910\n",
       "20180911    20180911\n",
       "20180912    20180912\n",
       "20180913    20180913\n",
       "20180914    20180914\n",
       "20180917    20180917\n",
       "20180918    20180918\n",
       "20180919    20180919\n",
       "20180920    20180920\n",
       "Name: 年月日, Length: 494, dtype: int64"
      ]
     },
     "execution_count": 5,
     "metadata": {},
     "output_type": "execute_result"
    }
   ],
   "source": [
    "data.index = data['年月日'].tolist()\n",
    "data.pop('年月日')"
   ]
  },
  {
   "cell_type": "code",
   "execution_count": 6,
   "metadata": {},
   "outputs": [],
   "source": [
    "log_returns = np.log(data / data.shift(1))"
   ]
  },
  {
   "cell_type": "code",
   "execution_count": 7,
   "metadata": {},
   "outputs": [
    {
     "data": {
      "text/html": [
       "<div>\n",
       "<style scoped>\n",
       "    .dataframe tbody tr th:only-of-type {\n",
       "        vertical-align: middle;\n",
       "    }\n",
       "\n",
       "    .dataframe tbody tr th {\n",
       "        vertical-align: top;\n",
       "    }\n",
       "\n",
       "    .dataframe thead th {\n",
       "        text-align: right;\n",
       "    }\n",
       "</style>\n",
       "<table border=\"1\" class=\"dataframe\">\n",
       "  <thead>\n",
       "    <tr style=\"text-align: right;\">\n",
       "      <th></th>\n",
       "      <th>1402遠東新</th>\n",
       "      <th>1413宏洲</th>\n",
       "      <th>1536和大</th>\n",
       "      <th>2013中鋼構</th>\n",
       "      <th>2330台積電</th>\n",
       "      <th>2421建準</th>\n",
       "      <th>2474可成</th>\n",
       "      <th>2882國泰金</th>\n",
       "      <th>3481群創</th>\n",
       "      <th>4739康普</th>\n",
       "    </tr>\n",
       "  </thead>\n",
       "  <tbody>\n",
       "    <tr>\n",
       "      <th>20160920</th>\n",
       "      <td>NaN</td>\n",
       "      <td>NaN</td>\n",
       "      <td>NaN</td>\n",
       "      <td>NaN</td>\n",
       "      <td>NaN</td>\n",
       "      <td>NaN</td>\n",
       "      <td>NaN</td>\n",
       "      <td>NaN</td>\n",
       "      <td>NaN</td>\n",
       "      <td>NaN</td>\n",
       "    </tr>\n",
       "    <tr>\n",
       "      <th>20160921</th>\n",
       "      <td>0.008623</td>\n",
       "      <td>0.000000</td>\n",
       "      <td>0.006459</td>\n",
       "      <td>0.004751</td>\n",
       "      <td>0.005428</td>\n",
       "      <td>0.009298</td>\n",
       "      <td>0.007565</td>\n",
       "      <td>0.012194</td>\n",
       "      <td>0.008880</td>\n",
       "      <td>-0.002486</td>\n",
       "    </tr>\n",
       "    <tr>\n",
       "      <th>20160922</th>\n",
       "      <td>0.000000</td>\n",
       "      <td>0.000000</td>\n",
       "      <td>-0.013029</td>\n",
       "      <td>-0.006657</td>\n",
       "      <td>0.008116</td>\n",
       "      <td>0.011295</td>\n",
       "      <td>-0.017061</td>\n",
       "      <td>0.002690</td>\n",
       "      <td>-0.008880</td>\n",
       "      <td>-0.005741</td>\n",
       "    </tr>\n",
       "    <tr>\n",
       "      <th>20160923</th>\n",
       "      <td>0.004059</td>\n",
       "      <td>-0.003130</td>\n",
       "      <td>0.013029</td>\n",
       "      <td>0.001907</td>\n",
       "      <td>0.010739</td>\n",
       "      <td>0.002078</td>\n",
       "      <td>0.020821</td>\n",
       "      <td>0.001074</td>\n",
       "      <td>0.000000</td>\n",
       "      <td>0.010458</td>\n",
       "    </tr>\n",
       "    <tr>\n",
       "      <th>20160926</th>\n",
       "      <td>-0.002253</td>\n",
       "      <td>-0.018988</td>\n",
       "      <td>-0.013029</td>\n",
       "      <td>0.002378</td>\n",
       "      <td>-0.024283</td>\n",
       "      <td>-0.017166</td>\n",
       "      <td>-0.036230</td>\n",
       "      <td>-0.007271</td>\n",
       "      <td>-0.023059</td>\n",
       "      <td>-0.012714</td>\n",
       "    </tr>\n",
       "  </tbody>\n",
       "</table>\n",
       "</div>"
      ],
      "text/plain": [
       "           1402遠東新    1413宏洲    1536和大   2013中鋼構   2330台積電    2421建準  \\\n",
       "20160920       NaN       NaN       NaN       NaN       NaN       NaN   \n",
       "20160921  0.008623  0.000000  0.006459  0.004751  0.005428  0.009298   \n",
       "20160922  0.000000  0.000000 -0.013029 -0.006657  0.008116  0.011295   \n",
       "20160923  0.004059 -0.003130  0.013029  0.001907  0.010739  0.002078   \n",
       "20160926 -0.002253 -0.018988 -0.013029  0.002378 -0.024283 -0.017166   \n",
       "\n",
       "            2474可成   2882國泰金    3481群創    4739康普  \n",
       "20160920       NaN       NaN       NaN       NaN  \n",
       "20160921  0.007565  0.012194  0.008880 -0.002486  \n",
       "20160922 -0.017061  0.002690 -0.008880 -0.005741  \n",
       "20160923  0.020821  0.001074  0.000000  0.010458  \n",
       "20160926 -0.036230 -0.007271 -0.023059 -0.012714  "
      ]
     },
     "execution_count": 7,
     "metadata": {},
     "output_type": "execute_result"
    }
   ],
   "source": [
    "log_returns.head()"
   ]
  },
  {
   "cell_type": "code",
   "execution_count": 8,
   "metadata": {},
   "outputs": [
    {
     "data": {
      "text/plain": [
       "array([[<matplotlib.axes._subplots.AxesSubplot object at 0x7f4f5459c4a8>,\n",
       "        <matplotlib.axes._subplots.AxesSubplot object at 0x7f4f54564898>,\n",
       "        <matplotlib.axes._subplots.AxesSubplot object at 0x7f4f5458de10>],\n",
       "       [<matplotlib.axes._subplots.AxesSubplot object at 0x7f4f5453f3c8>,\n",
       "        <matplotlib.axes._subplots.AxesSubplot object at 0x7f4f544e7940>,\n",
       "        <matplotlib.axes._subplots.AxesSubplot object at 0x7f4f5450eeb8>],\n",
       "       [<matplotlib.axes._subplots.AxesSubplot object at 0x7f4f544bf470>,\n",
       "        <matplotlib.axes._subplots.AxesSubplot object at 0x7f4f54466a20>,\n",
       "        <matplotlib.axes._subplots.AxesSubplot object at 0x7f4f54466a58>],\n",
       "       [<matplotlib.axes._subplots.AxesSubplot object at 0x7f4f5443f518>,\n",
       "        <matplotlib.axes._subplots.AxesSubplot object at 0x7f4f543e6a90>,\n",
       "        <matplotlib.axes._subplots.AxesSubplot object at 0x7f4f54417048>]],\n",
       "      dtype=object)"
      ]
     },
     "execution_count": 8,
     "metadata": {},
     "output_type": "execute_result"
    },
    {
     "data": {
      "image/png": "[encoded data removed]",
      "text/plain": [
       "<Figure size 864x648 with 12 Axes>"
      ]
     },
     "metadata": {
      "needs_background": "light"
     },
     "output_type": "display_data"
    }
   ],
   "source": [
    "log_returns.hist(bins=50, figsize=(12, 9))"
   ]
  },
  {
   "cell_type": "code",
   "execution_count": 9,
   "metadata": {},
   "outputs": [],
   "source": [
    "rets = log_returns\n",
    "year_ret = rets.mean() * 252\n",
    "year_volatility = rets.cov() * 252"
   ]
  },
  {
   "cell_type": "code",
   "execution_count": 10,
   "metadata": {},
   "outputs": [
    {
     "data": {
      "text/plain": [
       "1402遠東新    0.250281\n",
       "1413宏洲     0.348281\n",
       "1536和大    -0.025670\n",
       "2013中鋼構    0.227148\n",
       "2330台積電    0.214572\n",
       "2421建準     0.294508\n",
       "2474可成     0.158352\n",
       "2882國泰金    0.180362\n",
       "3481群創     0.010529\n",
       "4739康普     0.377503\n",
       "dtype: float64"
      ]
     },
     "execution_count": 10,
     "metadata": {},
     "output_type": "execute_result"
    }
   ],
   "source": [
    "year_ret"
   ]
  },
  {
   "cell_type": "code",
   "execution_count": 11,
   "metadata": {},
   "outputs": [
    {
     "data": {
      "text/html": [
       "<div>\n",
       "<style scoped>\n",
       "    .dataframe tbody tr th:only-of-type {\n",
       "        vertical-align: middle;\n",
       "    }\n",
       "\n",
       "    .dataframe tbody tr th {\n",
       "        vertical-align: top;\n",
       "    }\n",
       "\n",
       "    .dataframe thead th {\n",
       "        text-align: right;\n",
       "    }\n",
       "</style>\n",
       "<table border=\"1\" class=\"dataframe\">\n",
       "  <thead>\n",
       "    <tr style=\"text-align: right;\">\n",
       "      <th></th>\n",
       "      <th>1402遠東新</th>\n",
       "      <th>1413宏洲</th>\n",
       "      <th>1536和大</th>\n",
       "      <th>2013中鋼構</th>\n",
       "      <th>2330台積電</th>\n",
       "      <th>2421建準</th>\n",
       "      <th>2474可成</th>\n",
       "      <th>2882國泰金</th>\n",
       "      <th>3481群創</th>\n",
       "      <th>4739康普</th>\n",
       "    </tr>\n",
       "  </thead>\n",
       "  <tbody>\n",
       "    <tr>\n",
       "      <th>1402遠東新</th>\n",
       "      <td>0.039721</td>\n",
       "      <td>0.015437</td>\n",
       "      <td>0.006067</td>\n",
       "      <td>0.007438</td>\n",
       "      <td>0.014136</td>\n",
       "      <td>0.010980</td>\n",
       "      <td>0.016198</td>\n",
       "      <td>0.010675</td>\n",
       "      <td>0.017270</td>\n",
       "      <td>0.010427</td>\n",
       "    </tr>\n",
       "    <tr>\n",
       "      <th>1413宏洲</th>\n",
       "      <td>0.015437</td>\n",
       "      <td>0.181355</td>\n",
       "      <td>0.008693</td>\n",
       "      <td>0.028084</td>\n",
       "      <td>0.010635</td>\n",
       "      <td>0.009686</td>\n",
       "      <td>0.012917</td>\n",
       "      <td>0.008258</td>\n",
       "      <td>0.012166</td>\n",
       "      <td>0.010352</td>\n",
       "    </tr>\n",
       "    <tr>\n",
       "      <th>1536和大</th>\n",
       "      <td>0.006067</td>\n",
       "      <td>0.008693</td>\n",
       "      <td>0.096802</td>\n",
       "      <td>0.005916</td>\n",
       "      <td>0.011251</td>\n",
       "      <td>0.013801</td>\n",
       "      <td>0.021494</td>\n",
       "      <td>0.008011</td>\n",
       "      <td>0.016465</td>\n",
       "      <td>0.052454</td>\n",
       "    </tr>\n",
       "    <tr>\n",
       "      <th>2013中鋼構</th>\n",
       "      <td>0.007438</td>\n",
       "      <td>0.028084</td>\n",
       "      <td>0.005916</td>\n",
       "      <td>0.145148</td>\n",
       "      <td>0.006042</td>\n",
       "      <td>-0.000476</td>\n",
       "      <td>0.011232</td>\n",
       "      <td>0.009563</td>\n",
       "      <td>0.010490</td>\n",
       "      <td>0.010749</td>\n",
       "    </tr>\n",
       "    <tr>\n",
       "      <th>2330台積電</th>\n",
       "      <td>0.014136</td>\n",
       "      <td>0.010635</td>\n",
       "      <td>0.011251</td>\n",
       "      <td>0.006042</td>\n",
       "      <td>0.039261</td>\n",
       "      <td>0.010846</td>\n",
       "      <td>0.020410</td>\n",
       "      <td>0.015141</td>\n",
       "      <td>0.014564</td>\n",
       "      <td>0.016497</td>\n",
       "    </tr>\n",
       "    <tr>\n",
       "      <th>2421建準</th>\n",
       "      <td>0.010980</td>\n",
       "      <td>0.009686</td>\n",
       "      <td>0.013801</td>\n",
       "      <td>-0.000476</td>\n",
       "      <td>0.010846</td>\n",
       "      <td>0.182073</td>\n",
       "      <td>0.024542</td>\n",
       "      <td>0.008616</td>\n",
       "      <td>0.023061</td>\n",
       "      <td>0.044391</td>\n",
       "    </tr>\n",
       "    <tr>\n",
       "      <th>2474可成</th>\n",
       "      <td>0.016198</td>\n",
       "      <td>0.012917</td>\n",
       "      <td>0.021494</td>\n",
       "      <td>0.011232</td>\n",
       "      <td>0.020410</td>\n",
       "      <td>0.024542</td>\n",
       "      <td>0.101515</td>\n",
       "      <td>0.015413</td>\n",
       "      <td>0.017686</td>\n",
       "      <td>0.031436</td>\n",
       "    </tr>\n",
       "    <tr>\n",
       "      <th>2882國泰金</th>\n",
       "      <td>0.010675</td>\n",
       "      <td>0.008258</td>\n",
       "      <td>0.008011</td>\n",
       "      <td>0.009563</td>\n",
       "      <td>0.015141</td>\n",
       "      <td>0.008616</td>\n",
       "      <td>0.015413</td>\n",
       "      <td>0.035931</td>\n",
       "      <td>0.012889</td>\n",
       "      <td>0.013051</td>\n",
       "    </tr>\n",
       "    <tr>\n",
       "      <th>3481群創</th>\n",
       "      <td>0.017270</td>\n",
       "      <td>0.012166</td>\n",
       "      <td>0.016465</td>\n",
       "      <td>0.010490</td>\n",
       "      <td>0.014564</td>\n",
       "      <td>0.023061</td>\n",
       "      <td>0.017686</td>\n",
       "      <td>0.012889</td>\n",
       "      <td>0.084473</td>\n",
       "      <td>0.021666</td>\n",
       "    </tr>\n",
       "    <tr>\n",
       "      <th>4739康普</th>\n",
       "      <td>0.010427</td>\n",
       "      <td>0.010352</td>\n",
       "      <td>0.052454</td>\n",
       "      <td>0.010749</td>\n",
       "      <td>0.016497</td>\n",
       "      <td>0.044391</td>\n",
       "      <td>0.031436</td>\n",
       "      <td>0.013051</td>\n",
       "      <td>0.021666</td>\n",
       "      <td>0.256335</td>\n",
       "    </tr>\n",
       "  </tbody>\n",
       "</table>\n",
       "</div>"
      ],
      "text/plain": [
       "          1402遠東新    1413宏洲    1536和大   2013中鋼構   2330台積電    2421建準    2474可成  \\\n",
       "1402遠東新  0.039721  0.015437  0.006067  0.007438  0.014136  0.010980  0.016198   \n",
       "1413宏洲   0.015437  0.181355  0.008693  0.028084  0.010635  0.009686  0.012917   \n",
       "1536和大   0.006067  0.008693  0.096802  0.005916  0.011251  0.013801  0.021494   \n",
       "2013中鋼構  0.007438  0.028084  0.005916  0.145148  0.006042 -0.000476  0.011232   \n",
       "2330台積電  0.014136  0.010635  0.011251  0.006042  0.039261  0.010846  0.020410   \n",
       "2421建準   0.010980  0.009686  0.013801 -0.000476  0.010846  0.182073  0.024542   \n",
       "2474可成   0.016198  0.012917  0.021494  0.011232  0.020410  0.024542  0.101515   \n",
       "2882國泰金  0.010675  0.008258  0.008011  0.009563  0.015141  0.008616  0.015413   \n",
       "3481群創   0.017270  0.012166  0.016465  0.010490  0.014564  0.023061  0.017686   \n",
       "4739康普   0.010427  0.010352  0.052454  0.010749  0.016497  0.044391  0.031436   \n",
       "\n",
       "          2882國泰金    3481群創    4739康普  \n",
       "1402遠東新  0.010675  0.017270  0.010427  \n",
       "1413宏洲   0.008258  0.012166  0.010352  \n",
       "1536和大   0.008011  0.016465  0.052454  \n",
       "2013中鋼構  0.009563  0.010490  0.010749  \n",
       "2330台積電  0.015141  0.014564  0.016497  \n",
       "2421建準   0.008616  0.023061  0.044391  \n",
       "2474可成   0.015413  0.017686  0.031436  \n",
       "2882國泰金  0.035931  0.012889  0.013051  \n",
       "3481群創   0.012889  0.084473  0.021666  \n",
       "4739康普   0.013051  0.021666  0.256335  "
      ]
     },
     "execution_count": 11,
     "metadata": {},
     "output_type": "execute_result"
    }
   ],
   "source": [
    "year_volatility"
   ]
  },
  {
   "cell_type": "code",
   "execution_count": 12,
   "metadata": {},
   "outputs": [],
   "source": [
    "number_of_assets = 10\n",
    "weights = np.random.random(number_of_assets)\n",
    "weights /= np.sum(weights)"
   ]
  },
  {
   "cell_type": "code",
   "execution_count": 13,
   "metadata": {},
   "outputs": [],
   "source": [
    "portfolio_returns = []\n",
    "portfolio_volatilities = []\n",
    "for p in range (5000):\n",
    "      weights = np.random.random(number_of_assets)\n",
    "      weights /= np.sum(weights)\n",
    "      portfolio_returns.append(np.sum(rets.mean() * weights) * 252)\n",
    "      portfolio_volatilities.append(np.sqrt(np.dot(weights.T, np.dot(rets.cov() * 252, weights))))"
   ]
  },
  {
   "cell_type": "code",
   "execution_count": 14,
   "metadata": {},
   "outputs": [],
   "source": [
    "portfolio_returns = np.array(portfolio_returns)\n",
    "portfolio_volatilities = np.array(portfolio_volatilities)"
   ]
  },
  {
   "cell_type": "code",
   "execution_count": 15,
   "metadata": {},
   "outputs": [
    {
     "data": {
      "text/plain": [
       "<matplotlib.colorbar.Colorbar at 0x7f4f53ee1198>"
      ]
     },
     "execution_count": 15,
     "metadata": {},
     "output_type": "execute_result"
    },
    {
     "data": {
      "image/png": "[encoded data removed]",
      "text/plain": [
       "<Figure size 648x360 with 2 Axes>"
      ]
     },
     "metadata": {
      "needs_background": "light"
     },
     "output_type": "display_data"
    }
   ],
   "source": [
    "plt.figure(figsize=(9, 5))\n",
    "plt.scatter(portfolio_volatilities, portfolio_returns, c=portfolio_returns / portfolio_volatilities, marker='o') #画散点图\n",
    "plt.grid(True)\n",
    "plt.xlabel('expected volatility')\n",
    "plt.ylabel('expected return')\n",
    "plt.colorbar(label='Sharpe ratio')"
   ]
  },
  {
   "cell_type": "code",
   "execution_count": 16,
   "metadata": {},
   "outputs": [],
   "source": [
    "def statistics(weights):\n",
    "    weights = np.array(weights)\n",
    "    pret = np.sum(rets.mean() * weights) * 252\n",
    "    pvol = np.sqrt(np.dot(weights.T, np.dot(rets.cov() * 252, weights)))\n",
    "    return np.array([pret, pvol, pret / pvol])"
   ]
  },
  {
   "cell_type": "code",
   "execution_count": 17,
   "metadata": {},
   "outputs": [],
   "source": [
    "def min_func_sharpe(weights):\n",
    "    return -statistics(weights)[2]"
   ]
  },
  {
   "cell_type": "code",
   "execution_count": 18,
   "metadata": {},
   "outputs": [],
   "source": [
    "bnds = tuple((0, 1) for x in range(number_of_assets))\n",
    "cons = ({'type': 'eq', 'fun': lambda x: np.sum(x) - 1})\n",
    "opts = sco.minimize(min_func_sharpe, number_of_assets * [1. / number_of_assets,], method='SLSQP',  bounds=bnds, constraints=cons)"
   ]
  },
  {
   "cell_type": "code",
   "execution_count": 19,
   "metadata": {},
   "outputs": [
    {
     "data": {
      "text/plain": [
       "array([0.331, 0.096, 0.   , 0.073, 0.194, 0.076, 0.   , 0.159, 0.   ,\n",
       "       0.071])"
      ]
     },
     "execution_count": 19,
     "metadata": {},
     "output_type": "execute_result"
    }
   ],
   "source": [
    "opts['x'].round(3)"
   ]
  },
  {
   "cell_type": "code",
   "execution_count": 20,
   "metadata": {},
   "outputs": [
    {
     "data": {
      "text/plain": [
       "array([0.2523, 0.1461, 1.7265])"
      ]
     },
     "execution_count": 20,
     "metadata": {},
     "output_type": "execute_result"
    }
   ],
   "source": [
    "statistics(opts['x']).round(4) #紅星(Q點)"
   ]
  },
  {
   "cell_type": "code",
   "execution_count": 21,
   "metadata": {},
   "outputs": [],
   "source": [
    "def min_func_variance(weights):\n",
    "    return statistics(weights)[1] ** 2"
   ]
  },
  {
   "cell_type": "code",
   "execution_count": 22,
   "metadata": {},
   "outputs": [],
   "source": [
    "optv = sco.minimize(min_func_variance, number_of_assets * [1. / number_of_assets,], method='SLSQP', bounds=bnds, constraints=cons)"
   ]
  },
  {
   "cell_type": "code",
   "execution_count": 23,
   "metadata": {},
   "outputs": [],
   "source": [
    "def min_func_port(weights):\n",
    "    return statistics(weights)[1]"
   ]
  },
  {
   "cell_type": "code",
   "execution_count": 24,
   "metadata": {},
   "outputs": [],
   "source": [
    "target_returns = np.linspace(0.35, 0.65, 30)"
   ]
  },
  {
   "cell_type": "code",
   "execution_count": 25,
   "metadata": {},
   "outputs": [],
   "source": [
    "target_volatilities = []"
   ]
  },
  {
   "cell_type": "code",
   "execution_count": 26,
   "metadata": {},
   "outputs": [],
   "source": [
    "for tret in target_returns:\n",
    "    cons = ({'type': 'eq', 'fun': lambda x:  statistics(x)[0] - tret}, {'type': 'eq', 'fun': lambda x:  np.sum(x) - 1})\n",
    "    res = sco.minimize(min_func_port, number_of_assets * [1. / number_of_assets,], method='SLSQP', bounds=bnds, constraints=cons)\n",
    "    target_volatilities.append(res['fun'])"
   ]
  },
  {
   "cell_type": "code",
   "execution_count": 27,
   "metadata": {},
   "outputs": [
    {
     "data": {
      "text/plain": [
       "<matplotlib.colorbar.Colorbar at 0x7f4f53e922b0>"
      ]
     },
     "execution_count": 27,
     "metadata": {},
     "output_type": "execute_result"
    },
    {
     "data": {
      "image/png": "[encoded data removed]",
      "text/plain": [
       "<Figure size 648x360 with 2 Axes>"
      ]
     },
     "metadata": {
      "needs_background": "light"
     },
     "output_type": "display_data"
    }
   ],
   "source": [
    "plt.figure(figsize=(9, 5))\n",
    "plt.scatter(portfolio_volatilities, portfolio_returns, c=portfolio_returns / portfolio_volatilities, marker='o')\n",
    "plt.scatter(target_volatilities, target_returns, c=target_returns / target_volatilities, marker='x')\n",
    "plt.plot(statistics(opts['x'])[1], statistics(opts['x'])[0], 'r*', markersize=15.0)\n",
    "plt.plot(statistics(optv['x'])[1], statistics(optv['x'])[0], 'y*', markersize=15.0)\n",
    "plt.grid(True)\n",
    "plt.xlabel('expected volatility')\n",
    "plt.ylabel('expected return')\n",
    "plt.colorbar(label='Sharpe ratio')"
   ]
  },
  {
   "cell_type": "code",
   "execution_count": 28,
   "metadata": {},
   "outputs": [
    {
     "data": {
      "text/plain": [
       "array([0.1884, 0.1341, 1.4046])"
      ]
     },
     "execution_count": 28,
     "metadata": {},
     "output_type": "execute_result"
    }
   ],
   "source": [
    "statistics(optv['x']).round(4) #黃星(C點)"
   ]
  },
  {
   "cell_type": "code",
   "execution_count": 29,
   "metadata": {},
   "outputs": [],
   "source": [
    "ind = np.argmin(target_volatilities)"
   ]
  },
  {
   "cell_type": "code",
   "execution_count": 30,
   "metadata": {},
   "outputs": [],
   "source": [
    "upper_half_volatilities = target_volatilities[ind:]\n",
    "upper_half_returns = target_returns[ind:]"
   ]
  },
  {
   "cell_type": "code",
   "execution_count": 31,
   "metadata": {},
   "outputs": [
    {
     "ename": "ValueError",
     "evalue": "Error on input data",
     "output_type": "error",
     "traceback": [
      "\u001b[0;31m---------------------------------------------------------------------------\u001b[0m",
      "\u001b[0;31mValueError\u001b[0m                                Traceback (most recent call last)",
      "\u001b[0;32m<ipython-input-31-1ab4074678fb>\u001b[0m in \u001b[0;36m<module>\u001b[0;34m()\u001b[0m\n\u001b[0;32m----> 1\u001b[0;31m \u001b[0mtck\u001b[0m \u001b[0;34m=\u001b[0m \u001b[0msci\u001b[0m\u001b[0;34m.\u001b[0m\u001b[0msplrep\u001b[0m\u001b[0;34m(\u001b[0m\u001b[0mupper_half_volatilities\u001b[0m\u001b[0;34m,\u001b[0m \u001b[0mupper_half_returns\u001b[0m\u001b[0;34m)\u001b[0m\u001b[0;34m\u001b[0m\u001b[0m\n\u001b[0m\u001b[1;32m      2\u001b[0m \u001b[0;32mdef\u001b[0m \u001b[0mf\u001b[0m\u001b[0;34m(\u001b[0m\u001b[0mx\u001b[0m\u001b[0;34m)\u001b[0m\u001b[0;34m:\u001b[0m\u001b[0;34m\u001b[0m\u001b[0m\n\u001b[1;32m      3\u001b[0m     \u001b[0;32mreturn\u001b[0m \u001b[0msci\u001b[0m\u001b[0;34m.\u001b[0m\u001b[0msplev\u001b[0m\u001b[0;34m(\u001b[0m\u001b[0mx\u001b[0m\u001b[0;34m,\u001b[0m \u001b[0mtck\u001b[0m\u001b[0;34m,\u001b[0m \u001b[0mder\u001b[0m\u001b[0;34m=\u001b[0m\u001b[0;36m0\u001b[0m\u001b[0;34m)\u001b[0m\u001b[0;34m\u001b[0m\u001b[0m\n",
      "\u001b[0;32m/srv/conda/lib/python3.6/site-packages/scipy/interpolate/fitpack.py\u001b[0m in \u001b[0;36msplrep\u001b[0;34m(x, y, w, xb, xe, k, task, s, t, full_output, per, quiet)\u001b[0m\n\u001b[1;32m    287\u001b[0m \u001b[0;34m\u001b[0m\u001b[0m\n\u001b[1;32m    288\u001b[0m     \"\"\"\n\u001b[0;32m--> 289\u001b[0;31m     \u001b[0mres\u001b[0m \u001b[0;34m=\u001b[0m \u001b[0m_impl\u001b[0m\u001b[0;34m.\u001b[0m\u001b[0msplrep\u001b[0m\u001b[0;34m(\u001b[0m\u001b[0mx\u001b[0m\u001b[0;34m,\u001b[0m \u001b[0my\u001b[0m\u001b[0;34m,\u001b[0m \u001b[0mw\u001b[0m\u001b[0;34m,\u001b[0m \u001b[0mxb\u001b[0m\u001b[0;34m,\u001b[0m \u001b[0mxe\u001b[0m\u001b[0;34m,\u001b[0m \u001b[0mk\u001b[0m\u001b[0;34m,\u001b[0m \u001b[0mtask\u001b[0m\u001b[0;34m,\u001b[0m \u001b[0ms\u001b[0m\u001b[0;34m,\u001b[0m \u001b[0mt\u001b[0m\u001b[0;34m,\u001b[0m \u001b[0mfull_output\u001b[0m\u001b[0;34m,\u001b[0m \u001b[0mper\u001b[0m\u001b[0;34m,\u001b[0m \u001b[0mquiet\u001b[0m\u001b[0;34m)\u001b[0m\u001b[0;34m\u001b[0m\u001b[0m\n\u001b[0m\u001b[1;32m    290\u001b[0m     \u001b[0;32mreturn\u001b[0m \u001b[0mres\u001b[0m\u001b[0;34m\u001b[0m\u001b[0m\n\u001b[1;32m    291\u001b[0m \u001b[0;34m\u001b[0m\u001b[0m\n",
      "\u001b[0;32m/srv/conda/lib/python3.6/site-packages/scipy/interpolate/_fitpack_impl.py\u001b[0m in \u001b[0;36msplrep\u001b[0;34m(x, y, w, xb, xe, k, task, s, t, full_output, per, quiet)\u001b[0m\n\u001b[1;32m    513\u001b[0m         \u001b[0;32melse\u001b[0m\u001b[0;34m:\u001b[0m\u001b[0;34m\u001b[0m\u001b[0m\n\u001b[1;32m    514\u001b[0m             \u001b[0;32mtry\u001b[0m\u001b[0;34m:\u001b[0m\u001b[0;34m\u001b[0m\u001b[0m\n\u001b[0;32m--> 515\u001b[0;31m                 \u001b[0;32mraise\u001b[0m \u001b[0m_iermess\u001b[0m\u001b[0;34m[\u001b[0m\u001b[0mier\u001b[0m\u001b[0;34m]\u001b[0m\u001b[0;34m[\u001b[0m\u001b[0;36m1\u001b[0m\u001b[0;34m]\u001b[0m\u001b[0;34m(\u001b[0m\u001b[0m_iermess\u001b[0m\u001b[0;34m[\u001b[0m\u001b[0mier\u001b[0m\u001b[0;34m]\u001b[0m\u001b[0;34m[\u001b[0m\u001b[0;36m0\u001b[0m\u001b[0;34m]\u001b[0m\u001b[0;34m)\u001b[0m\u001b[0;34m\u001b[0m\u001b[0m\n\u001b[0m\u001b[1;32m    516\u001b[0m             \u001b[0;32mexcept\u001b[0m \u001b[0mKeyError\u001b[0m\u001b[0;34m:\u001b[0m\u001b[0;34m\u001b[0m\u001b[0m\n\u001b[1;32m    517\u001b[0m                 \u001b[0;32mraise\u001b[0m \u001b[0m_iermess\u001b[0m\u001b[0;34m[\u001b[0m\u001b[0;34m'unknown'\u001b[0m\u001b[0;34m]\u001b[0m\u001b[0;34m[\u001b[0m\u001b[0;36m1\u001b[0m\u001b[0;34m]\u001b[0m\u001b[0;34m(\u001b[0m\u001b[0m_iermess\u001b[0m\u001b[0;34m[\u001b[0m\u001b[0;34m'unknown'\u001b[0m\u001b[0;34m]\u001b[0m\u001b[0;34m[\u001b[0m\u001b[0;36m0\u001b[0m\u001b[0;34m]\u001b[0m\u001b[0;34m)\u001b[0m\u001b[0;34m\u001b[0m\u001b[0m\n",
      "\u001b[0;31mValueError\u001b[0m: Error on input data"
     ]
    }
   ],
   "source": [
    "tck = sci.splrep(upper_half_volatilities, upper_half_returns)\n",
    "def f(x):\n",
    "    return sci.splev(x, tck, der=0)"
   ]
  },
  {
   "cell_type": "code",
   "execution_count": null,
   "metadata": {},
   "outputs": [],
   "source": []
  }
 ],
 "metadata": {
  "kernelspec": {
   "display_name": "Python 3",
   "language": "python",
   "name": "python3"
  },
  "language_info": {
   "codemirror_mode": {
    "name": "ipython",
    "version": 3
   },
   "file_extension": ".py",
   "mimetype": "text/x-python",
   "name": "python",
   "nbconvert_exporter": "python",
   "pygments_lexer": "ipython3",
   "version": "3.6.6"
  }
 },
 "nbformat": 4,
 "nbformat_minor": 2
}
