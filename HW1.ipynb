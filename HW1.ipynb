{
 "cells": [
  {
   "cell_type": "markdown",
   "metadata": {},
   "source": [
    "# 題目\n",
    "    為解二元一次方程式，有兩種方法：\n",
    "    1. 公式解：x=(-b+sqrt(b*b-4ac))/2a 與 x=(-b-sqrt(b*b-4ac))/2a\n",
    "    2. 牛頓法：逼近精確解\n",
    "    \n",
    "    今有一函數：f(x)=x*x-10*x-10\n",
    "    請使用者輸入起始猜測值及容許誤差值，當計算到誤差值小於容許誤差值時，則停止運算並輸出結果：程式共執行幾次迴圈、公式解答案為何、牛頓法依次計算結果為何、最終誤差值為多少。\n",
    "    \n",
    "    之前用C語言寫過這題，這堂課是我第一次接觸Python，這次用Python改寫看看。"
   ]
  },
  {
   "cell_type": "code",
   "execution_count": 38,
   "metadata": {},
   "outputs": [],
   "source": [
    "import cmath"
   ]
  },
  {
   "cell_type": "code",
   "execution_count": 39,
   "metadata": {},
   "outputs": [],
   "source": [
    "def realx():\n",
    "    rx=(10+cmath.sqrt(10*10-4*1*(-10)))/2\n",
    "    return rx"
   ]
  },
  {
   "cell_type": "code",
   "execution_count": 40,
   "metadata": {},
   "outputs": [],
   "source": [
    "def newton(x):\n",
    "    Fx=x*x-10*x-10\n",
    "    DFx=2*x-10\n",
    "    newx=x-Fx/DFx\n",
    "    return newx"
   ]
  },
  {
   "cell_type": "code",
   "execution_count": 41,
   "metadata": {},
   "outputs": [],
   "source": [
    "s1 = \"The starting value is {x}\"\n",
    "s2 = \"The difference is {t}\""
   ]
  },
  {
   "cell_type": "code",
   "execution_count": 42,
   "metadata": {},
   "outputs": [
    {
     "data": {
      "text/plain": [
       "'The starting value is 15'"
      ]
     },
     "execution_count": 42,
     "metadata": {},
     "output_type": "execute_result"
    }
   ],
   "source": [
    "s1.format(x=15)"
   ]
  },
  {
   "cell_type": "code",
   "execution_count": 43,
   "metadata": {},
   "outputs": [
    {
     "data": {
      "text/plain": [
       "'The difference is 0.001'"
      ]
     },
     "execution_count": 43,
     "metadata": {},
     "output_type": "execute_result"
    }
   ],
   "source": [
    "s2.format(t=0.001)"
   ]
  },
  {
   "cell_type": "code",
   "execution_count": 44,
   "metadata": {},
   "outputs": [],
   "source": [
    "counter = 0"
   ]
  },
  {
   "cell_type": "code",
   "execution_count": 45,
   "metadata": {},
   "outputs": [],
   "source": [
    "x=15\n",
    "t=0.001"
   ]
  },
  {
   "cell_type": "code",
   "execution_count": 46,
   "metadata": {},
   "outputs": [
    {
     "name": "stdout",
     "output_type": "stream",
     "text": [
      "After  1  time, x =  11.75\n",
      "After  2  time, x =  10.967592592592592\n",
      "After  3  time, x =  10.916302114760223\n"
     ]
    }
   ],
   "source": [
    "while abs(x-realx())>t:\n",
    "    x = newton(x)\n",
    "    counter += 1\n",
    "    print(\"After \", counter, \" time, x = \", x)"
   ]
  },
  {
   "cell_type": "code",
   "execution_count": 47,
   "metadata": {},
   "outputs": [
    {
     "name": "stdout",
     "output_type": "stream",
     "text": [
      "The root is  (10.916079783099615+0j)\n"
     ]
    }
   ],
   "source": [
    "print(\"The root is \", realx())"
   ]
  },
  {
   "cell_type": "code",
   "execution_count": 48,
   "metadata": {},
   "outputs": [
    {
     "name": "stdout",
     "output_type": "stream",
     "text": [
      "The difference is  (0.00022233166060736664+0j)\n"
     ]
    }
   ],
   "source": [
    "print(\"The difference is \", x-realx())"
   ]
  },
  {
   "cell_type": "code",
   "execution_count": 49,
   "metadata": {},
   "outputs": [
    {
     "name": "stdout",
     "output_type": "stream",
     "text": [
      "There are  3 times of loops\n"
     ]
    }
   ],
   "source": [
    "print(\"There are \", counter, \"times of loops\")"
   ]
  },
  {
   "cell_type": "code",
   "execution_count": null,
   "metadata": {},
   "outputs": [],
   "source": []
  }
 ],
 "metadata": {
  "kernelspec": {
   "display_name": "Python 3",
   "language": "python",
   "name": "python3"
  },
  "language_info": {
   "codemirror_mode": {
    "name": "ipython",
    "version": 3
   },
   "file_extension": ".py",
   "mimetype": "text/x-python",
   "name": "python",
   "nbconvert_exporter": "python",
   "pygments_lexer": "ipython3",
   "version": "3.6.4"
  }
 },
 "nbformat": 4,
 "nbformat_minor": 2
}
